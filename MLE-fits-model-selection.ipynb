{
 "cells": [
  {
   "cell_type": "code",
   "execution_count": 1,
   "metadata": {},
   "outputs": [],
   "source": [
    "import numpy as np\n",
    "import matplotlib.pyplot as plt\n",
    "%matplotlib inline\n",
    "from scipy.optimize import fmin\n",
    "from mpmath import gammainc\n",
    "import powerlaw"
   ]
  },
  {
   "cell_type": "code",
   "execution_count": 2,
   "metadata": {},
   "outputs": [],
   "source": [
    "from scipy import special"
   ]
  },
  {
   "cell_type": "code",
   "execution_count": 3,
   "metadata": {},
   "outputs": [],
   "source": [
    "data=np.loadtxt('waitingtimes.txt')\n",
    "#data=np.loadtxt('contactdurations2.txt')\n",
    "#data=np.loadtxt('weights2s9.txt')"
   ]
  },
  {
   "cell_type": "code",
   "execution_count": 4,
   "metadata": {},
   "outputs": [
    {
     "data": {
      "text/plain": [
       "(145802, 1.0, 3040.0)"
      ]
     },
     "execution_count": 4,
     "metadata": {},
     "output_type": "execute_result"
    }
   ],
   "source": [
    "len(data),np.min(data),np.max(data)"
   ]
  },
  {
   "cell_type": "markdown",
   "metadata": {},
   "source": [
    "# Set data range"
   ]
  },
  {
   "cell_type": "code",
   "execution_count": 5,
   "metadata": {},
   "outputs": [
    {
     "name": "stderr",
     "output_type": "stream",
     "text": [
      "Calculating best minimal value for power law fit\n",
      "/opt/anaconda3/envs/phdenv/lib/python3.8/site-packages/powerlaw.py:699: RuntimeWarning: invalid value encountered in true_divide\n",
      "  (CDF_diff**2) /\n"
     ]
    },
    {
     "data": {
      "text/plain": [
       "(1.9428700371300325, 6.0)"
      ]
     },
     "execution_count": 5,
     "metadata": {},
     "output_type": "execute_result"
    }
   ],
   "source": [
    "fit = powerlaw.Fit(data)\n",
    "fit.power_law.alpha,fit.power_law.xmin"
   ]
  },
  {
   "cell_type": "code",
   "execution_count": 6,
   "metadata": {},
   "outputs": [],
   "source": [
    "a = fit.power_law.xmin #np.min(data) #"
   ]
  },
  {
   "cell_type": "code",
   "execution_count": 7,
   "metadata": {},
   "outputs": [
    {
     "data": {
      "text/plain": [
       "6.0"
      ]
     },
     "execution_count": 7,
     "metadata": {},
     "output_type": "execute_result"
    }
   ],
   "source": [
    "a"
   ]
  },
  {
   "cell_type": "markdown",
   "metadata": {},
   "source": [
    "# Maximum Likelihood Estimates"
   ]
  },
  {
   "cell_type": "code",
   "execution_count": 8,
   "metadata": {},
   "outputs": [],
   "source": [
    "# exponential\n",
    "def likelihood_exp(x, xmin=None):\n",
    "    if not xmin:\n",
    "        a = np.min(x)\n",
    "    else:\n",
    "        a = xmin\n",
    "        x = x[x >= a]\n",
    "    # maximum likelihood estimate\n",
    "    MLE = 1/(np.mean(x) - a)\n",
    "    return MLE"
   ]
  },
  {
   "cell_type": "code",
   "execution_count": 9,
   "metadata": {},
   "outputs": [],
   "source": [
    "# Truncated Levy flight\n",
    "def likelihood_tlf(params, x, xmin):\n",
    "    alpha, Lambda = params\n",
    "    if alpha < 1  or Lambda < 0:\n",
    "        \n",
    "        return np.tile(10 ** (-300), len(x))#float_info.min_10_exp\n",
    "    \n",
    "    likelihoods = (Lambda ** (1 - alpha)) /\\\n",
    "    ((x ** alpha) * np.exp(Lambda * x) * float(gammainc(1 - alpha, Lambda * xmin)))\n",
    "    \n",
    "    likelihoods[likelihoods == 0] = 10 ** (-300)#float_info.min_10_exp\n",
    "    return likelihoods"
   ]
  },
  {
   "cell_type": "code",
   "execution_count": 10,
   "metadata": {},
   "outputs": [],
   "source": [
    "# Stretched exponential\n",
    "def likelihood_stexp(params, x, xmin):\n",
    "    lambd, beta = params\n",
    "    # Clauset et al. (2007) form\n",
    "    likelihoods = x**(beta-1) * beta * lambd * np.exp(lambd*xmin**beta - lambd*x**beta)\n",
    "    return likelihoods"
   ]
  },
  {
   "cell_type": "code",
   "execution_count": 11,
   "metadata": {},
   "outputs": [],
   "source": [
    "# Log-normal\n",
    "def lklhood_lognormal(params, x):\n",
    "    mu, sigma = params\n",
    "    return np.exp(-((np.log(x)-mu)**2)/(2*sigma**2))/(np.sqrt(2*np.pi)*sigma*x)"
   ]
  },
  {
   "cell_type": "markdown",
   "metadata": {},
   "source": [
    "# Log-likelihoods"
   ]
  },
  {
   "cell_type": "code",
   "execution_count": 12,
   "metadata": {},
   "outputs": [],
   "source": [
    "def loglikelihood_exp(x, lambd, xmin):\n",
    "    return len(x) * np.log(lambd) + len(x) * lambd * xmin - lambd * np.sum(x)"
   ]
  },
  {
   "cell_type": "code",
   "execution_count": 13,
   "metadata": {},
   "outputs": [],
   "source": [
    "def loglikelihood_TLF(x, alpha, lambd, xmin):\n",
    "    C = lambd**(1-alpha) / float(gammainc(1-alpha,lambd*xmin))\n",
    "    return len(x) * np.log(C) - alpha * np.sum(np.log(x)) - lambd * np.sum(x)"
   ]
  },
  {
   "cell_type": "code",
   "execution_count": 14,
   "metadata": {},
   "outputs": [],
   "source": [
    "def loglikelihood_stexp(x, lambd, beta, xmin):\n",
    "    # Clauset et al. (2007) form\n",
    "    likelihood = x**(beta-1) * beta * lambd * np.exp(lambd*xmin**beta - lambd*x**beta)\n",
    "    \n",
    "    return np.sum(np.log(likelihood))"
   ]
  },
  {
   "cell_type": "code",
   "execution_count": 15,
   "metadata": {},
   "outputs": [],
   "source": [
    "def loglikelihood_lnorm(x, mu, sigma):\n",
    "    likelihood = np.exp(-((np.log(x)-mu)**2)/(2*sigma**2))/(np.sqrt(2*np.pi)*sigma*x)\n",
    "    return np.sum(np.log(likelihood))"
   ]
  },
  {
   "cell_type": "markdown",
   "metadata": {},
   "source": [
    "# Akaike model selection"
   ]
  },
  {
   "cell_type": "code",
   "execution_count": 16,
   "metadata": {},
   "outputs": [],
   "source": [
    "# Compare exponential, truncated Levy flight, stretched exponential, and log-normal\n",
    "def akaikeWeights_v1(data, xmin=None):\n",
    "    \n",
    "    # prepare data\n",
    "    if not xmin:\n",
    "        a = np.min(data)\n",
    "    else:\n",
    "        a = xmin\n",
    "        \n",
    "    x = data[data >= a]\n",
    "    \n",
    "    # Maximum likelihood estimates ###############################\n",
    "    \n",
    "    MLEs = []\n",
    "    \n",
    "    # exponential\n",
    "    lambda_exp = likelihood_exp(x, a)\n",
    "    print('Exponential MLE:', lambda_exp)\n",
    "    MLEs.append(lambda_exp)\n",
    "    \n",
    "    # Truncated Levy flight\n",
    "    init_vals = [2,lambda_exp]\n",
    "    parameters = fmin(lambda p: -np.sum(np.log(likelihood_tlf(p,x,a))), init_vals)\n",
    "    alpha, lambda_tlf = parameters\n",
    "    print('Truncated Levy flight MLEs:', alpha, lambda_tlf)\n",
    "    MLEs.append(alpha)\n",
    "    MLEs.append(lambda_tlf)\n",
    "        \n",
    "    # Stretched exponential\n",
    "    init_vals = [lambda_exp,1.]\n",
    "    parameters = fmin(lambda p: -np.sum(np.log(likelihood_stexp(p,x,a))), init_vals, disp=False)\n",
    "    lambda_se, beta_se = parameters\n",
    "    print('Stretched exponential MLEs:', lambda_se, beta_se)\n",
    "    MLEs.append(lambda_se)\n",
    "    MLEs.append(beta_se)\n",
    "    \n",
    "    # Log-normal\n",
    "    init_vals = [1,2]\n",
    "    parameters = fmin(lambda p: -np.sum(np.log(lklhood_lognormal(p,x))), init_vals)\n",
    "    mu_lnorm, sigma_lnorm = parameters\n",
    "    print('Log-normal MLEs:', mu_lnorm, sigma_lnorm)\n",
    "    MLEs.append(mu_lnorm)\n",
    "    MLEs.append(sigma_lnorm)\n",
    "    \n",
    "    # Log-likelihood values ######################################\n",
    "    \n",
    "    # exponential\n",
    "    loglikelihood = loglikelihood_exp(x, lambda_exp, xmin=a)\n",
    "    print(loglikelihood)\n",
    "    AIC1 = -2 * loglikelihood + 2\n",
    "    \n",
    "    # truncated power-law\n",
    "    loglikelihood = loglikelihood_TLF(x, alpha, lambda_tlf, xmin=a)\n",
    "    print(loglikelihood)\n",
    "    AIC2 = -2 * loglikelihood + 4\n",
    "    \n",
    "    # stretched exponential\n",
    "    loglikelihood = loglikelihood_stexp(x, lambda_se, beta_se, xmin=a)\n",
    "    print(loglikelihood)\n",
    "    AIC3 = -2 * loglikelihood + 4\n",
    "    \n",
    "    # log-normal\n",
    "    loglikelihood = loglikelihood_lnorm(x, mu_lnorm, sigma_lnorm)\n",
    "    print(loglikelihood)\n",
    "    AIC4 = -2 * loglikelihood + 4\n",
    "    \n",
    "    \n",
    "    # AIC differences\n",
    "    \n",
    "    AICs = [AIC1,AIC2,AIC3, AIC4]\n",
    "    \n",
    "    AICmin = np.argmin(AICs) + 1\n",
    "    \n",
    "    if AICmin == 1:\n",
    "        Delta1 = 0\n",
    "        Delta2 = AIC2 - AIC1\n",
    "        Delta3 = AIC3 - AIC1\n",
    "        Delta4 = AIC4 - AIC1\n",
    "    elif AICmin == 2:\n",
    "        Delta1 = AIC1 - AIC2\n",
    "        Delta2 = 0\n",
    "        Delta3 = AIC3 - AIC2\n",
    "        Delta4 = AIC4 - AIC2\n",
    "    elif AICmin == 3:\n",
    "        Delta1 = AIC1 - AIC3\n",
    "        Delta2 = AIC2 - AIC3\n",
    "        Delta3 = 0\n",
    "        Delta4 = AIC4 - AIC3\n",
    "    elif AICmin == 4:\n",
    "        Delta1 = AIC1 - AIC4\n",
    "        Delta2 = AIC2 - AIC4\n",
    "        Delta3 = AIC3 - AIC4\n",
    "        Delta4 = 0\n",
    "        \n",
    "    print(\"AIC differences:\", Delta1, Delta2, Delta3, Delta4)\n",
    "    \n",
    "    # Akaike weights\n",
    "    w1 = np.exp(-Delta1/2) / (np.exp(-Delta1/2) + np.exp(-Delta2/2)\\\n",
    "                              + np.exp(-Delta3/2) + np.exp(-Delta4/2))\n",
    "    w2 = np.exp(-Delta2/2) / (np.exp(-Delta1/2) + np.exp(-Delta2/2)\\\n",
    "                              + np.exp(-Delta3/2) + np.exp(-Delta4/2))\n",
    "    w3 = np.exp(-Delta3/2) / (np.exp(-Delta1/2) + np.exp(-Delta2/2)\\\n",
    "                              + np.exp(-Delta3/2) + np.exp(-Delta4/2))\n",
    "    w4 = np.exp(-Delta4/2) / (np.exp(-Delta1/2) + np.exp(-Delta2/2)\\\n",
    "                              + np.exp(-Delta3/2) + np.exp(-Delta4/2))\n",
    "    return w1, w2, w3, w4, MLEs"
   ]
  },
  {
   "cell_type": "code",
   "execution_count": 17,
   "metadata": {},
   "outputs": [
    {
     "name": "stdout",
     "output_type": "stream",
     "text": [
      "Exponential MLE: 0.02812353694419382\n",
      "Optimization terminated successfully.\n",
      "         Current function value: 177261.880809\n",
      "         Iterations: 49\n",
      "         Function evaluations: 95\n",
      "Truncated Levy flight MLEs: 1.8935838380637877 0.0003892773309285678\n",
      "Stretched exponential MLEs: 108.02130430906092 0.008515235051005186\n",
      "Optimization terminated successfully.\n",
      "         Current function value: 196384.533632\n",
      "         Iterations: 43\n",
      "         Function evaluations: 80\n",
      "Log-normal MLEs: 2.8523198046479195 1.060607384475595\n",
      "-207315.29517993727\n",
      "-177261.88080897814\n",
      "-177385.15084959308\n",
      "-196384.53363234582\n",
      "AIC differences: 60104.82874191826 0 246.5400812298758 38245.30564673536\n",
      "w_exp: 0.0\n",
      "w_tlf: 1.0\n",
      "w_se: 2.914080715909327e-54\n",
      "w_lnorm: 0.0\n"
     ]
    }
   ],
   "source": [
    "w1, w2, w3, w4, parameters = akaikeWeights_v1(data,xmin=a)\n",
    "print(\"w_exp:\", w1)\n",
    "print(\"w_tlf:\", w2)\n",
    "print(\"w_se:\",  w3)\n",
    "print(\"w_lnorm:\",  w4)"
   ]
  },
  {
   "cell_type": "markdown",
   "metadata": {},
   "source": [
    "## Data pdf"
   ]
  },
  {
   "cell_type": "code",
   "execution_count": 18,
   "metadata": {},
   "outputs": [],
   "source": [
    "def datapdf(data, xmin=None):\n",
    "    # Code copied from powerlaw package:\n",
    "    # https://github.com/jeffalstott/powerlaw/blob/master/powerlaw.py\n",
    "    data = np.asarray(data)\n",
    "    xmax = np.max(data)\n",
    "    if not xmin:\n",
    "        xmin = np.min(data)\n",
    "\n",
    "    if xmin<1:  \n",
    "        xmax2=xmax/xmin\n",
    "        xmin2=1\n",
    "    else:\n",
    "        xmax2=xmax\n",
    "        xmin2=xmin\n",
    "\n",
    "    log_min_size = np.log10(xmin2)\n",
    "    log_max_size = np.log10(xmax2)\n",
    "    number_of_bins = int(np.ceil((log_max_size-log_min_size)*10))\n",
    "    bins=np.unique(\n",
    "            np.floor(\n",
    "                np.logspace(\n",
    "                    log_min_size, log_max_size, num=number_of_bins)))\n",
    "\n",
    "    if xmin<1: #Needed to include also data x<1 in pdf.\n",
    "        hist, edges = np.histogram(data/xmin, bins, density=True)\n",
    "        edges=edges*xmin # transform result back to original\n",
    "        hist=hist/xmin # rescale hist, so that np.sum(hist*edges)==1\n",
    "    else:\n",
    "        hist, edges = np.histogram(data, bins, density=True)\n",
    "        \n",
    "    bin_centers = (edges[1:]+edges[:-1])/2.0\n",
    "    return bin_centers, hist"
   ]
  },
  {
   "cell_type": "markdown",
   "metadata": {},
   "source": [
    "## Fits"
   ]
  },
  {
   "cell_type": "code",
   "execution_count": 19,
   "metadata": {},
   "outputs": [],
   "source": [
    "x = np.sort(data[data >= a]) # [data >= a]"
   ]
  },
  {
   "cell_type": "code",
   "execution_count": 20,
   "metadata": {},
   "outputs": [],
   "source": [
    "# Exponential, truncated Levy flight, stretched exponential, and log-normal\n",
    "lambda_exp, alpha, lambda_tlf, lambda_se, beta_se, mu_lnorm, sigma_lnorm = parameters"
   ]
  },
  {
   "cell_type": "code",
   "execution_count": 21,
   "metadata": {},
   "outputs": [],
   "source": [
    "# Exponential\n",
    "exp = lambda_exp * np.exp(-lambda_exp * (x - a))"
   ]
  },
  {
   "cell_type": "code",
   "execution_count": 22,
   "metadata": {},
   "outputs": [],
   "source": [
    "# TLF\n",
    "C = lambda_tlf**(1-alpha) / float(gammainc(1-alpha,lambda_tlf*a))\n",
    "tlf = C * x**(-alpha) * np.exp(-lambda_tlf*x)"
   ]
  },
  {
   "cell_type": "code",
   "execution_count": 23,
   "metadata": {},
   "outputs": [],
   "source": [
    "# Stretched exponential\n",
    "stexp = x**(beta_se-1) * beta_se * lambda_se * np.exp(lambda_se*a**beta_se - lambda_se*x**beta_se)"
   ]
  },
  {
   "cell_type": "code",
   "execution_count": 24,
   "metadata": {},
   "outputs": [],
   "source": [
    "# Log-normal\n",
    "lnorm = np.exp(-((np.log(x)-mu_lnorm)**2)/(2*sigma_lnorm**2))/(np.sqrt(2*np.pi)*sigma_lnorm*x)"
   ]
  },
  {
   "cell_type": "code",
   "execution_count": 25,
   "metadata": {},
   "outputs": [],
   "source": [
    "bin_centers, hist = datapdf(data,a)"
   ]
  },
  {
   "cell_type": "markdown",
   "metadata": {},
   "source": [
    "# Plots"
   ]
  },
  {
   "cell_type": "markdown",
   "metadata": {},
   "source": [
    "## Waiting times"
   ]
  },
  {
   "cell_type": "code",
   "execution_count": 26,
   "metadata": {},
   "outputs": [],
   "source": [
    "bin_centers*=10\n",
    "x*=10"
   ]
  },
  {
   "cell_type": "code",
   "execution_count": 27,
   "metadata": {},
   "outputs": [
    {
     "data": {
      "image/png": "[encoded data removed]",
      "text/plain": [
       "<Figure size 576x432 with 1 Axes>"
      ]
     },
     "metadata": {
      "needs_background": "light"
     },
     "output_type": "display_data"
    }
   ],
   "source": [
    "plt.figure(figsize=(8,6))\n",
    "plt.subplots_adjust(left=0.15,top=0.95,bottom=0.16)\n",
    "\n",
    "plt.loglog(bin_centers, hist, color='b', marker='o',markersize=10, label='Data') # fillstyle='none',\n",
    "\n",
    "plt.loglog(x, exp, color='k', linestyle='--', linewidth=2, label='Exponential')\n",
    "plt.loglog(x, tlf, color='r', linewidth=2, label='Truncated power law')\n",
    "plt.loglog(x, stexp, color='m', linewidth=2, label='Stretched exponential')\n",
    "plt.loglog(x, lnorm, color='cyan', linewidth=2, label='Log-normal')\n",
    "\n",
    "plt.xlabel(r'$t$' + ' [s]', fontsize=18)\n",
    "plt.ylabel(r'$P(t)$', fontsize=20)\n",
    "plt.xticks(fontsize=16)\n",
    "plt.yticks(fontsize=16)\n",
    "plt.tick_params(axis='both',length=10,width=1,which='major')\n",
    "plt.tick_params(axis='both',length=4,width=1,which='minor')\n",
    "plt.ylim([10e-9, 1])\n",
    "\n",
    "plt.legend(loc=3,fontsize=14)\n",
    "\n",
    "#plt.savefig('Figure02.eps')\n",
    "\n",
    "plt.show()"
   ]
  },
  {
   "cell_type": "markdown",
   "metadata": {},
   "source": [
    "# Confidence intervals"
   ]
  },
  {
   "cell_type": "markdown",
   "metadata": {},
   "source": [
    "## Truncated power law"
   ]
  },
  {
   "cell_type": "code",
   "execution_count": 28,
   "metadata": {},
   "outputs": [
    {
     "data": {
      "text/plain": [
       "(1.8935838380637877, 0.0003892773309285678)"
      ]
     },
     "execution_count": 28,
     "metadata": {},
     "output_type": "execute_result"
    }
   ],
   "source": [
    "alpha, lambda_tlf"
   ]
  },
  {
   "cell_type": "code",
   "execution_count": 29,
   "metadata": {},
   "outputs": [],
   "source": [
    "paramrange = np.arange(alpha - 0.01, alpha + 0.01, 0.00001)\n",
    "R = []\n",
    "init_vals = [2,lambda_exp]\n",
    "p2 = -loglikelihood_TLF(x, alpha, lambda_tlf, xmin=a)\n",
    "for alph in paramrange:\n",
    "    \n",
    "    p1 = -loglikelihood_TLF(x, alph, lambda_tlf, xmin=a)\n",
    "    \n",
    "    loglikelihood_ratio = p1 - p2\n",
    "\n",
    "    R.append(loglikelihood_ratio)"
   ]
  },
  {
   "cell_type": "code",
   "execution_count": 30,
   "metadata": {},
   "outputs": [
    {
     "data": {
      "text/plain": [
       "(1.8835838380637877, 1.8935938380638533)"
      ]
     },
     "execution_count": 30,
     "metadata": {},
     "output_type": "execute_result"
    }
   ],
   "source": [
    "R = np.asarray(R)\n",
    "CI1 = paramrange[np.where(R <= 1.92)[0]][0]\n",
    "CI2 = paramrange[np.where(R <= 1.92)[0]][-1]\n",
    "CI1,CI2"
   ]
  },
  {
   "cell_type": "markdown",
   "metadata": {},
   "source": [
    "## Exponential"
   ]
  },
  {
   "cell_type": "code",
   "execution_count": 31,
   "metadata": {},
   "outputs": [],
   "source": [
    "paramrange = np.arange(lambda_exp - 0.001,lambda_exp + 0.001,0.000001)\n",
    "R = []\n",
    "p2 = -loglikelihood_exp(x, lambda_exp, xmin=a)\n",
    "for lambd in paramrange:\n",
    "\n",
    "    p1 = -loglikelihood_exp(x, lambd, xmin=a)\n",
    "        \n",
    "    loglikelihood_ratio = p1 - p2\n",
    "\n",
    "    R.append(loglikelihood_ratio)"
   ]
  },
  {
   "cell_type": "code",
   "execution_count": 32,
   "metadata": {},
   "outputs": [
    {
     "data": {
      "text/plain": [
       "(0.02712353694419382, 0.02812353694419382, 0.02812353694419482)"
      ]
     },
     "execution_count": 32,
     "metadata": {},
     "output_type": "execute_result"
    }
   ],
   "source": [
    "R = np.asarray(R)\n",
    "CI1 = paramrange[np.where(R <= 1.92)[0]][0]\n",
    "CI2 = paramrange[np.where(R <= 1.92)[0]][-1]\n",
    "CI1, lambda_exp, CI2"
   ]
  },
  {
   "cell_type": "markdown",
   "metadata": {},
   "source": [
    "## Stretched exponential"
   ]
  },
  {
   "cell_type": "code",
   "execution_count": 33,
   "metadata": {},
   "outputs": [],
   "source": [
    "paramrange = np.arange(lambda_se - 0.01, lambda_se + 0.01, 0.00001)\n",
    "R = []\n",
    "p2 = -loglikelihood_stexp(x, lambda_se, beta_se, xmin=a)\n",
    "for lambd in paramrange:\n",
    "    \n",
    "    p1 = -loglikelihood_stexp(x, lambd, beta_se, xmin=a)\n",
    "    \n",
    "    loglikelihood_ratio = p1 - p2\n",
    "\n",
    "    R.append(loglikelihood_ratio)"
   ]
  },
  {
   "cell_type": "code",
   "execution_count": 34,
   "metadata": {},
   "outputs": [
    {
     "data": {
      "text/plain": [
       "(108.01130430906092, 108.02130430906092, 108.02338430906475)"
      ]
     },
     "execution_count": 34,
     "metadata": {},
     "output_type": "execute_result"
    }
   ],
   "source": [
    "R = np.asarray(R)\n",
    "CI1 = paramrange[np.where(R <= 1.92)[0]][0]\n",
    "CI2 = paramrange[np.where(R <= 1.92)[0]][-1]\n",
    "CI1, lambda_se, CI2"
   ]
  },
  {
   "cell_type": "code",
   "execution_count": 35,
   "metadata": {},
   "outputs": [
    {
     "name": "stderr",
     "output_type": "stream",
     "text": [
      "<ipython-input-14-8a4c058723d4>:5: RuntimeWarning: invalid value encountered in log\n",
      "  return np.sum(np.log(likelihood))\n"
     ]
    }
   ],
   "source": [
    "paramrange = np.arange(beta_se - 0.01, beta_se + 0.01, 0.0001)\n",
    "R = []\n",
    "p2 = -loglikelihood_stexp(x, lambda_se, beta_se, xmin=a)\n",
    "for bet in paramrange:\n",
    "    \n",
    "    p1 = -loglikelihood_stexp(x, lambda_se, bet, xmin=a)\n",
    "    \n",
    "    loglikelihood_ratio = p1 - p2\n",
    "\n",
    "    R.append(loglikelihood_ratio)"
   ]
  },
  {
   "cell_type": "code",
   "execution_count": 36,
   "metadata": {},
   "outputs": [
    {
     "data": {
      "text/plain": [
       "(0.0005152350510051864, 0.008515235051005186, 0.00851523505100519)"
      ]
     },
     "execution_count": 36,
     "metadata": {},
     "output_type": "execute_result"
    }
   ],
   "source": [
    "R = np.asarray(R)\n",
    "CI1 = paramrange[np.where(R <= 1.92)[0]][0]\n",
    "CI2 = paramrange[np.where(R <= 1.92)[0]][-1]\n",
    "CI1, beta_se, CI2"
   ]
  },
  {
   "cell_type": "markdown",
   "metadata": {},
   "source": [
    "## Log-normal"
   ]
  },
  {
   "cell_type": "code",
   "execution_count": 222,
   "metadata": {},
   "outputs": [],
   "source": [
    "paramrange = np.arange(mu_lnorm - 0.01, mu_lnorm + 0.01, 0.00001)\n",
    "R = []\n",
    "p2 = -loglikelihood_lnorm(x, mu_lnorm, sigma_lnorm)\n",
    "for mu in paramrange:\n",
    "    \n",
    "    p1 = -loglikelihood_lnorm(x, mu, sigma_lnorm)\n",
    "    \n",
    "    loglikelihood_ratio = p1 - p2\n",
    "\n",
    "    R.append(loglikelihood_ratio)"
   ]
  },
  {
   "cell_type": "code",
   "execution_count": 223,
   "metadata": {},
   "outputs": [
    {
     "data": {
      "text/plain": [
       "(2.8425998046479215, 2.8523198046479195, 2.8621098046480493)"
      ]
     },
     "execution_count": 223,
     "metadata": {},
     "output_type": "execute_result"
    }
   ],
   "source": [
    "R = np.asarray(R)\n",
    "CI1 = paramrange[np.where(R <= 1.92)[0]][0]\n",
    "CI2 = paramrange[np.where(R <= 1.92)[0]][-1]\n",
    "CI1, mu_lnorm, CI2"
   ]
  },
  {
   "cell_type": "code",
   "execution_count": 224,
   "metadata": {},
   "outputs": [],
   "source": [
    "paramrange = np.arange(sigma_lnorm - 0.01, sigma_lnorm + 0.01, 0.00001)\n",
    "R = []\n",
    "p2 = -loglikelihood_lnorm(x, mu_lnorm, sigma_lnorm)\n",
    "for sig in paramrange:\n",
    "    \n",
    "    p1 = -loglikelihood_lnorm(x, mu_lnorm, sig)\n",
    "    \n",
    "    loglikelihood_ratio = p1 - p2\n",
    "\n",
    "    R.append(loglikelihood_ratio)"
   ]
  },
  {
   "cell_type": "code",
   "execution_count": 225,
   "metadata": {},
   "outputs": [
    {
     "data": {
      "text/plain": [
       "(1.0537473844756156, 1.060607384475595, 1.067547384475706)"
      ]
     },
     "execution_count": 225,
     "metadata": {},
     "output_type": "execute_result"
    }
   ],
   "source": [
    "R = np.asarray(R)\n",
    "CI1 = paramrange[np.where(R <= 1.92)[0]][0]\n",
    "CI2 = paramrange[np.where(R <= 1.92)[0]][-1]\n",
    "CI1, sigma_lnorm, CI2"
   ]
  },
  {
   "cell_type": "code",
   "execution_count": null,
   "metadata": {},
   "outputs": [],
   "source": []
  }
 ],
 "metadata": {
  "kernelspec": {
   "display_name": "Python 3",
   "language": "python",
   "name": "python3"
  },
  "language_info": {
   "codemirror_mode": {
    "name": "ipython",
    "version": 3
   },
   "file_extension": ".py",
   "mimetype": "text/x-python",
   "name": "python",
   "nbconvert_exporter": "python",
   "pygments_lexer": "ipython3",
   "version": "3.8.5"
  }
 },
 "nbformat": 4,
 "nbformat_minor": 1
}
