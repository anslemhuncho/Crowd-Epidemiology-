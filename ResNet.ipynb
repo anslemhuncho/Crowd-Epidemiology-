{
  "nbformat": 4,
  "nbformat_minor": 0,
  "metadata": {
    "colab": {
      "provenance": [],
      "mount_file_id": "1HawUPN0KBlQ8XYWbbmyX_q1utCUIzNUh",
      "authorship_tag": "ABX9TyMyoEWegWQcp9TvSqDreXmd",
      "include_colab_link": true
    },
    "kernelspec": {
      "name": "python3",
      "display_name": "Python 3"
    },
    "language_info": {
      "name": "python"
    }
  },
  "cells": [
    {
      "cell_type": "markdown",
      "metadata": {
        "id": "view-in-github",
        "colab_type": "text"
      },
      "source": [
        "<a href=\"https://colab.research.google.com/github/anslemhuncho/Crowd-Epidemiology-/blob/master/ResNet.ipynb\" target=\"_parent\"><img src=\"https://colab.research.google.com/assets/colab-badge.svg\" alt=\"Open In Colab\"/></a>"
      ]
    },
    {
      "cell_type": "code",
      "source": [
        "pip install keras-tuner"
      ],
      "metadata": {
        "colab": {
          "base_uri": "https://localhost:8080/"
        },
        "id": "3JnKFBXB9gMF",
        "outputId": "9f91446c-9504-45a1-a539-0b019c8c4d60"
      },
      "execution_count": 2,
      "outputs": [
        {
          "output_type": "stream",
          "name": "stdout",
          "text": [
            "Collecting keras-tuner\n",
            "  Downloading keras_tuner-1.4.7-py3-none-any.whl (129 kB)\n",
            "\u001b[?25l     \u001b[90m━━━━━━━━━━━━━━━━━━━━━━━━━━━━━━━━━━━━━━━━\u001b[0m \u001b[32m0.0/129.1 kB\u001b[0m \u001b[31m?\u001b[0m eta \u001b[36m-:--:--\u001b[0m\r\u001b[2K     \u001b[90m━━━━━━━━━━━━━━━━━━━━━━━━━━━━━━━━━━━━━━━━\u001b[0m \u001b[32m129.1/129.1 kB\u001b[0m \u001b[31m3.9 MB/s\u001b[0m eta \u001b[36m0:00:00\u001b[0m\n",
            "\u001b[?25hRequirement already satisfied: keras in /usr/local/lib/python3.10/dist-packages (from keras-tuner) (2.15.0)\n",
            "Requirement already satisfied: packaging in /usr/local/lib/python3.10/dist-packages (from keras-tuner) (24.0)\n",
            "Requirement already satisfied: requests in /usr/local/lib/python3.10/dist-packages (from keras-tuner) (2.31.0)\n",
            "Collecting kt-legacy (from keras-tuner)\n",
            "  Downloading kt_legacy-1.0.5-py3-none-any.whl (9.6 kB)\n",
            "Requirement already satisfied: charset-normalizer<4,>=2 in /usr/local/lib/python3.10/dist-packages (from requests->keras-tuner) (3.3.2)\n",
            "Requirement already satisfied: idna<4,>=2.5 in /usr/local/lib/python3.10/dist-packages (from requests->keras-tuner) (3.6)\n",
            "Requirement already satisfied: urllib3<3,>=1.21.1 in /usr/local/lib/python3.10/dist-packages (from requests->keras-tuner) (2.0.7)\n",
            "Requirement already satisfied: certifi>=2017.4.17 in /usr/local/lib/python3.10/dist-packages (from requests->keras-tuner) (2024.2.2)\n",
            "Installing collected packages: kt-legacy, keras-tuner\n",
            "Successfully installed keras-tuner-1.4.7 kt-legacy-1.0.5\n"
          ]
        }
      ]
    },
    {
      "cell_type": "code",
      "execution_count": null,
      "metadata": {
        "colab": {
          "base_uri": "https://localhost:8080/"
        },
        "id": "PxGx1v--pmif",
        "outputId": "096dd4bc-51e3-4e43-f705-628e551a52f4"
      },
      "outputs": [
        {
          "output_type": "stream",
          "name": "stdout",
          "text": [
            "Found 3747 images belonging to 10 classes.\n",
            "Found 411 images belonging to 10 classes.\n",
            "Found 2069 images belonging to 10 classes.\n",
            "Reloading Tuner from resnet_hyperparameter_tuning/crowd_prediction_resnet/tuner0.json\n",
            "\n",
            "Search: Running Trial #3\n",
            "\n",
            "Value             |Best Value So Far |Hyperparameter\n",
            "128               |128               |dense_units\n",
            "0.1               |0.1               |dropout\n",
            "0.0001            |0.0001            |learning_rate\n",
            "\n",
            "Epoch 1/10\n"
          ]
        }
      ],
      "source": [
        "from tensorflow.keras.applications import ResNet50\n",
        "from tensorflow.keras.models import Model\n",
        "from tensorflow.keras.layers import Flatten, Dense, Dropout\n",
        "from tensorflow.keras.optimizers import Adam\n",
        "from tensorflow.keras.callbacks import EarlyStopping\n",
        "from kerastuner.tuners import RandomSearch\n",
        "from tensorflow.keras.preprocessing.image import ImageDataGenerator\n",
        "import matplotlib.pyplot as plt\n",
        "\n",
        "# Define paths to your train and test folders\n",
        "train_path = '/content/drive/MyDrive/Normalised data/train'\n",
        "test_path = '/content/drive/MyDrive/Normalised data/test'\n",
        "\n",
        "# Set up data generators with data augmentation and preprocessing\n",
        "datagen = ImageDataGenerator(\n",
        "    rescale=1./255,\n",
        "    shear_range=0.2,\n",
        "    zoom_range=0.2,\n",
        "    horizontal_flip=True,\n",
        "    validation_split=0.1  # Add validation split here\n",
        ")\n",
        "\n",
        "# Adjust batch size based on your system's memory\n",
        "batch_size = 32\n",
        "# Define the list of class labels corresponding to your dataset\n",
        "class_labels = ['animals_protection', 'appealing_for_peace', 'brexit', 'covid19', 'election', 'environment_protection', 'gender_equality', 'immigration', 'racial_equality', 'yellow_vests_movement']\n",
        "\n",
        "# Generate batches of augmented data from train and test folders with validation split\n",
        "train_generator = datagen.flow_from_directory(\n",
        "    train_path,\n",
        "    target_size=(254, 254),\n",
        "    batch_size=batch_size,\n",
        "    class_mode='categorical',\n",
        "    classes=class_labels,  # Manually specify class labels\n",
        "    shuffle=True,\n",
        "    subset='training'  # Specify subset as training for train data\n",
        ")\n",
        "\n",
        "validation_generator = datagen.flow_from_directory(\n",
        "    train_path,\n",
        "    target_size=(254, 254),\n",
        "    batch_size=batch_size,\n",
        "    class_mode='categorical',\n",
        "    classes=class_labels,  # Manually specify class labels\n",
        "    shuffle=False,\n",
        "    subset='validation'  # Specify subset as validation for validation data\n",
        ")\n",
        "\n",
        "test_generator = datagen.flow_from_directory(\n",
        "    test_path,\n",
        "    target_size=(254, 254),\n",
        "    batch_size=batch_size,\n",
        "    class_mode='categorical',\n",
        "    classes=class_labels,  # Manually specify class labels\n",
        "    shuffle=False\n",
        ")\n",
        "\n",
        "# Define the ResNet model architecture\n",
        "def build_resnet_model(hp):\n",
        "    base_model = ResNet50(include_top=False, weights=None, input_shape=(254, 254, 3))\n",
        "    x = base_model.output\n",
        "    x = Flatten()(x)\n",
        "    x = Dense(hp.Int('dense_units', min_value=64, max_value=256, step=32), activation='relu')(x)\n",
        "    x = Dropout(hp.Float('dropout', min_value=0.1, max_value=0.5, step=0.1))(x)\n",
        "    predictions = Dense(len(class_labels), activation='softmax')(x)\n",
        "\n",
        "    model = Model(inputs=base_model.input, outputs=predictions)\n",
        "    model.compile(optimizer=Adam(hp.Choice('learning_rate', values=[1e-2, 1e-3, 1e-4])),\n",
        "                  loss='categorical_crossentropy',\n",
        "                  metrics=['accuracy'])\n",
        "    return model\n",
        "\n",
        "# Set up the tuner for ResNet model\n",
        "resnet_tuner = RandomSearch(\n",
        "    build_resnet_model,\n",
        "    objective='accuracy',\n",
        "    max_trials=5,\n",
        "    executions_per_trial=1,\n",
        "    directory='resnet_hyperparameter_tuning',\n",
        "    project_name='crowd_prediction_resnet'\n",
        ")\n",
        "\n",
        "# Perform hyperparameter tuning for ResNet model\n",
        "resnet_tuner.search(\n",
        "    train_generator,\n",
        "    epochs=10,\n",
        "    validation_data=validation_generator,\n",
        "    validation_steps=validation_generator.samples // batch_size,\n",
        "    callbacks=[EarlyStopping(patience=3)]\n",
        ")\n",
        "\n",
        "# Get the best ResNet model and its hyperparameters\n",
        "best_resnet_model = resnet_tuner.get_best_models(num_models=1)[0]\n",
        "best_resnet_hyperparameters = resnet_tuner.get_best_hyperparameters(num_trials=1)[0]\n",
        "\n",
        "# Print the best hyperparameters for ResNet\n",
        "print(f'Best Hyperparameters for ResNet: {best_resnet_hyperparameters}')\n",
        "\n",
        "# Train the best ResNet model using the full training data (including validation)\n",
        "best_resnet_model.fit(\n",
        "    train_generator,\n",
        "    epochs=10,\n",
        "    validation_data=test_generator,\n",
        "    validation_steps=test_generator.samples // batch_size\n",
        ")\n",
        "\n",
        "# Evaluate the best ResNet model on the test data\n",
        "test_loss_resnet, test_accuracy_resnet = best_resnet_model.evaluate(test_generator)\n",
        "print(f'Test Accuracy of Best ResNet Model: {test_accuracy_resnet}')\n",
        "\n",
        "# Plot training history of the best ResNet model\n",
        "plt.plot(best_resnet_model.history.history['accuracy'], label='accuracy')\n",
        "plt.plot(best_resnet_model.history.history['val_accuracy'], label='val_accuracy')\n",
        "plt.xlabel('Epoch')\n",
        "plt.ylabel('Accuracy')\n",
        "plt.legend(loc='lower right')\n",
        "plt.show()\n"
      ]
    }
  ]
}